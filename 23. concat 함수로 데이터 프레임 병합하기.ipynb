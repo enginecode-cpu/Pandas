{
 "cells": [
  {
   "cell_type": "code",
   "execution_count": 1,
   "metadata": {},
   "outputs": [],
   "source": [
    "import pandas as pd\n",
    "import numpy as np"
   ]
  },
  {
   "cell_type": "markdown",
   "metadata": {},
   "source": [
    "### concat 함수를 사용하여 DataFrame 병합하기\n",
    "- pandas.concat 함수\n",
    "- 축을 따라 DataFrame을 병합 가능\n",
    "    - 기본 axis = 0 $\\rightarrow$ 행단위 병합"
   ]
  },
  {
   "cell_type": "markdown",
   "metadata": {},
   "source": [
    "- column명이 같은 경우"
   ]
  },
  {
   "cell_type": "code",
   "execution_count": 2,
   "metadata": {},
   "outputs": [],
   "source": [
    "df1 = pd.DataFrame({\n",
    "    'key1' : np.arange(10),\n",
    "    'value1' : np.random.randn(10),\n",
    "})"
   ]
  },
  {
   "cell_type": "code",
   "execution_count": 3,
   "metadata": {},
   "outputs": [],
   "source": [
    "df2 = pd.DataFrame({\n",
    "    'key1' : np.arange(10),\n",
    "    'value1' : np.random.randn(10)\n",
    "})"
   ]
  },
  {
   "cell_type": "code",
   "execution_count": 4,
   "metadata": {},
   "outputs": [
    {
     "output_type": "execute_result",
     "data": {
      "text/plain": [
       "   key1    value1\n",
       "0     0  0.759487\n",
       "1     1 -0.248590\n",
       "2     2 -0.628436\n",
       "3     3 -0.018206\n",
       "4     4 -0.182625\n",
       "5     5 -1.041503\n",
       "6     6  0.851446\n",
       "7     7  0.482182\n",
       "8     8 -0.084822\n",
       "9     9 -0.965564"
      ],
      "text/html": "<div>\n<style scoped>\n    .dataframe tbody tr th:only-of-type {\n        vertical-align: middle;\n    }\n\n    .dataframe tbody tr th {\n        vertical-align: top;\n    }\n\n    .dataframe thead th {\n        text-align: right;\n    }\n</style>\n<table border=\"1\" class=\"dataframe\">\n  <thead>\n    <tr style=\"text-align: right;\">\n      <th></th>\n      <th>key1</th>\n      <th>value1</th>\n    </tr>\n  </thead>\n  <tbody>\n    <tr>\n      <th>0</th>\n      <td>0</td>\n      <td>0.759487</td>\n    </tr>\n    <tr>\n      <th>1</th>\n      <td>1</td>\n      <td>-0.248590</td>\n    </tr>\n    <tr>\n      <th>2</th>\n      <td>2</td>\n      <td>-0.628436</td>\n    </tr>\n    <tr>\n      <th>3</th>\n      <td>3</td>\n      <td>-0.018206</td>\n    </tr>\n    <tr>\n      <th>4</th>\n      <td>4</td>\n      <td>-0.182625</td>\n    </tr>\n    <tr>\n      <th>5</th>\n      <td>5</td>\n      <td>-1.041503</td>\n    </tr>\n    <tr>\n      <th>6</th>\n      <td>6</td>\n      <td>0.851446</td>\n    </tr>\n    <tr>\n      <th>7</th>\n      <td>7</td>\n      <td>0.482182</td>\n    </tr>\n    <tr>\n      <th>8</th>\n      <td>8</td>\n      <td>-0.084822</td>\n    </tr>\n    <tr>\n      <th>9</th>\n      <td>9</td>\n      <td>-0.965564</td>\n    </tr>\n  </tbody>\n</table>\n</div>"
     },
     "metadata": {},
     "execution_count": 4
    }
   ],
   "source": [
    "df1"
   ]
  },
  {
   "cell_type": "code",
   "execution_count": 5,
   "metadata": {},
   "outputs": [
    {
     "output_type": "execute_result",
     "data": {
      "text/plain": [
       "   key1    value1\n",
       "0     0  0.041626\n",
       "1     1  1.319188\n",
       "2     2  0.066588\n",
       "3     3  0.310850\n",
       "4     4  0.560867\n",
       "5     5 -0.071521\n",
       "6     6 -1.956118\n",
       "7     7 -0.237834\n",
       "8     8  0.308718\n",
       "9     9 -1.868467"
      ],
      "text/html": "<div>\n<style scoped>\n    .dataframe tbody tr th:only-of-type {\n        vertical-align: middle;\n    }\n\n    .dataframe tbody tr th {\n        vertical-align: top;\n    }\n\n    .dataframe thead th {\n        text-align: right;\n    }\n</style>\n<table border=\"1\" class=\"dataframe\">\n  <thead>\n    <tr style=\"text-align: right;\">\n      <th></th>\n      <th>key1</th>\n      <th>value1</th>\n    </tr>\n  </thead>\n  <tbody>\n    <tr>\n      <th>0</th>\n      <td>0</td>\n      <td>0.041626</td>\n    </tr>\n    <tr>\n      <th>1</th>\n      <td>1</td>\n      <td>1.319188</td>\n    </tr>\n    <tr>\n      <th>2</th>\n      <td>2</td>\n      <td>0.066588</td>\n    </tr>\n    <tr>\n      <th>3</th>\n      <td>3</td>\n      <td>0.310850</td>\n    </tr>\n    <tr>\n      <th>4</th>\n      <td>4</td>\n      <td>0.560867</td>\n    </tr>\n    <tr>\n      <th>5</th>\n      <td>5</td>\n      <td>-0.071521</td>\n    </tr>\n    <tr>\n      <th>6</th>\n      <td>6</td>\n      <td>-1.956118</td>\n    </tr>\n    <tr>\n      <th>7</th>\n      <td>7</td>\n      <td>-0.237834</td>\n    </tr>\n    <tr>\n      <th>8</th>\n      <td>8</td>\n      <td>0.308718</td>\n    </tr>\n    <tr>\n      <th>9</th>\n      <td>9</td>\n      <td>-1.868467</td>\n    </tr>\n  </tbody>\n</table>\n</div>"
     },
     "metadata": {},
     "execution_count": 5
    }
   ],
   "source": [
    "df2"
   ]
  },
  {
   "cell_type": "code",
   "execution_count": 6,
   "metadata": {},
   "outputs": [
    {
     "output_type": "execute_result",
     "data": {
      "text/plain": [
       "   key1    value1\n",
       "0     0  0.759487\n",
       "1     1 -0.248590\n",
       "2     2 -0.628436\n",
       "3     3 -0.018206\n",
       "4     4 -0.182625\n",
       "5     5 -1.041503\n",
       "6     6  0.851446\n",
       "7     7  0.482182\n",
       "8     8 -0.084822\n",
       "9     9 -0.965564\n",
       "0     0  0.041626\n",
       "1     1  1.319188\n",
       "2     2  0.066588\n",
       "3     3  0.310850\n",
       "4     4  0.560867\n",
       "5     5 -0.071521\n",
       "6     6 -1.956118\n",
       "7     7 -0.237834\n",
       "8     8  0.308718\n",
       "9     9 -1.868467"
      ],
      "text/html": "<div>\n<style scoped>\n    .dataframe tbody tr th:only-of-type {\n        vertical-align: middle;\n    }\n\n    .dataframe tbody tr th {\n        vertical-align: top;\n    }\n\n    .dataframe thead th {\n        text-align: right;\n    }\n</style>\n<table border=\"1\" class=\"dataframe\">\n  <thead>\n    <tr style=\"text-align: right;\">\n      <th></th>\n      <th>key1</th>\n      <th>value1</th>\n    </tr>\n  </thead>\n  <tbody>\n    <tr>\n      <th>0</th>\n      <td>0</td>\n      <td>0.759487</td>\n    </tr>\n    <tr>\n      <th>1</th>\n      <td>1</td>\n      <td>-0.248590</td>\n    </tr>\n    <tr>\n      <th>2</th>\n      <td>2</td>\n      <td>-0.628436</td>\n    </tr>\n    <tr>\n      <th>3</th>\n      <td>3</td>\n      <td>-0.018206</td>\n    </tr>\n    <tr>\n      <th>4</th>\n      <td>4</td>\n      <td>-0.182625</td>\n    </tr>\n    <tr>\n      <th>5</th>\n      <td>5</td>\n      <td>-1.041503</td>\n    </tr>\n    <tr>\n      <th>6</th>\n      <td>6</td>\n      <td>0.851446</td>\n    </tr>\n    <tr>\n      <th>7</th>\n      <td>7</td>\n      <td>0.482182</td>\n    </tr>\n    <tr>\n      <th>8</th>\n      <td>8</td>\n      <td>-0.084822</td>\n    </tr>\n    <tr>\n      <th>9</th>\n      <td>9</td>\n      <td>-0.965564</td>\n    </tr>\n    <tr>\n      <th>0</th>\n      <td>0</td>\n      <td>0.041626</td>\n    </tr>\n    <tr>\n      <th>1</th>\n      <td>1</td>\n      <td>1.319188</td>\n    </tr>\n    <tr>\n      <th>2</th>\n      <td>2</td>\n      <td>0.066588</td>\n    </tr>\n    <tr>\n      <th>3</th>\n      <td>3</td>\n      <td>0.310850</td>\n    </tr>\n    <tr>\n      <th>4</th>\n      <td>4</td>\n      <td>0.560867</td>\n    </tr>\n    <tr>\n      <th>5</th>\n      <td>5</td>\n      <td>-0.071521</td>\n    </tr>\n    <tr>\n      <th>6</th>\n      <td>6</td>\n      <td>-1.956118</td>\n    </tr>\n    <tr>\n      <th>7</th>\n      <td>7</td>\n      <td>-0.237834</td>\n    </tr>\n    <tr>\n      <th>8</th>\n      <td>8</td>\n      <td>0.308718</td>\n    </tr>\n    <tr>\n      <th>9</th>\n      <td>9</td>\n      <td>-1.868467</td>\n    </tr>\n  </tbody>\n</table>\n</div>"
     },
     "metadata": {},
     "execution_count": 6
    }
   ],
   "source": [
    "pd.concat([df1, df2]) # 행 레벨 병합"
   ]
  },
  {
   "cell_type": "code",
   "execution_count": 7,
   "metadata": {},
   "outputs": [
    {
     "output_type": "execute_result",
     "data": {
      "text/plain": [
       "    key1    value1\n",
       "0      0  0.759487\n",
       "1      1 -0.248590\n",
       "2      2 -0.628436\n",
       "3      3 -0.018206\n",
       "4      4 -0.182625\n",
       "5      5 -1.041503\n",
       "6      6  0.851446\n",
       "7      7  0.482182\n",
       "8      8 -0.084822\n",
       "9      9 -0.965564\n",
       "10     0  0.041626\n",
       "11     1  1.319188\n",
       "12     2  0.066588\n",
       "13     3  0.310850\n",
       "14     4  0.560867\n",
       "15     5 -0.071521\n",
       "16     6 -1.956118\n",
       "17     7 -0.237834\n",
       "18     8  0.308718\n",
       "19     9 -1.868467"
      ],
      "text/html": "<div>\n<style scoped>\n    .dataframe tbody tr th:only-of-type {\n        vertical-align: middle;\n    }\n\n    .dataframe tbody tr th {\n        vertical-align: top;\n    }\n\n    .dataframe thead th {\n        text-align: right;\n    }\n</style>\n<table border=\"1\" class=\"dataframe\">\n  <thead>\n    <tr style=\"text-align: right;\">\n      <th></th>\n      <th>key1</th>\n      <th>value1</th>\n    </tr>\n  </thead>\n  <tbody>\n    <tr>\n      <th>0</th>\n      <td>0</td>\n      <td>0.759487</td>\n    </tr>\n    <tr>\n      <th>1</th>\n      <td>1</td>\n      <td>-0.248590</td>\n    </tr>\n    <tr>\n      <th>2</th>\n      <td>2</td>\n      <td>-0.628436</td>\n    </tr>\n    <tr>\n      <th>3</th>\n      <td>3</td>\n      <td>-0.018206</td>\n    </tr>\n    <tr>\n      <th>4</th>\n      <td>4</td>\n      <td>-0.182625</td>\n    </tr>\n    <tr>\n      <th>5</th>\n      <td>5</td>\n      <td>-1.041503</td>\n    </tr>\n    <tr>\n      <th>6</th>\n      <td>6</td>\n      <td>0.851446</td>\n    </tr>\n    <tr>\n      <th>7</th>\n      <td>7</td>\n      <td>0.482182</td>\n    </tr>\n    <tr>\n      <th>8</th>\n      <td>8</td>\n      <td>-0.084822</td>\n    </tr>\n    <tr>\n      <th>9</th>\n      <td>9</td>\n      <td>-0.965564</td>\n    </tr>\n    <tr>\n      <th>10</th>\n      <td>0</td>\n      <td>0.041626</td>\n    </tr>\n    <tr>\n      <th>11</th>\n      <td>1</td>\n      <td>1.319188</td>\n    </tr>\n    <tr>\n      <th>12</th>\n      <td>2</td>\n      <td>0.066588</td>\n    </tr>\n    <tr>\n      <th>13</th>\n      <td>3</td>\n      <td>0.310850</td>\n    </tr>\n    <tr>\n      <th>14</th>\n      <td>4</td>\n      <td>0.560867</td>\n    </tr>\n    <tr>\n      <th>15</th>\n      <td>5</td>\n      <td>-0.071521</td>\n    </tr>\n    <tr>\n      <th>16</th>\n      <td>6</td>\n      <td>-1.956118</td>\n    </tr>\n    <tr>\n      <th>17</th>\n      <td>7</td>\n      <td>-0.237834</td>\n    </tr>\n    <tr>\n      <th>18</th>\n      <td>8</td>\n      <td>0.308718</td>\n    </tr>\n    <tr>\n      <th>19</th>\n      <td>9</td>\n      <td>-1.868467</td>\n    </tr>\n  </tbody>\n</table>\n</div>"
     },
     "metadata": {},
     "execution_count": 7
    }
   ],
   "source": [
    "pd.concat([df1, df2], ignore_index=True) # 인덱스를 새로 생성"
   ]
  },
  {
   "cell_type": "code",
   "execution_count": 8,
   "metadata": {},
   "outputs": [
    {
     "output_type": "execute_result",
     "data": {
      "text/plain": [
       "   key1    value1  key1    value1\n",
       "0     0  0.759487     0  0.041626\n",
       "1     1 -0.248590     1  1.319188\n",
       "2     2 -0.628436     2  0.066588\n",
       "3     3 -0.018206     3  0.310850\n",
       "4     4 -0.182625     4  0.560867\n",
       "5     5 -1.041503     5 -0.071521\n",
       "6     6  0.851446     6 -1.956118\n",
       "7     7  0.482182     7 -0.237834\n",
       "8     8 -0.084822     8  0.308718\n",
       "9     9 -0.965564     9 -1.868467"
      ],
      "text/html": "<div>\n<style scoped>\n    .dataframe tbody tr th:only-of-type {\n        vertical-align: middle;\n    }\n\n    .dataframe tbody tr th {\n        vertical-align: top;\n    }\n\n    .dataframe thead th {\n        text-align: right;\n    }\n</style>\n<table border=\"1\" class=\"dataframe\">\n  <thead>\n    <tr style=\"text-align: right;\">\n      <th></th>\n      <th>key1</th>\n      <th>value1</th>\n      <th>key1</th>\n      <th>value1</th>\n    </tr>\n  </thead>\n  <tbody>\n    <tr>\n      <th>0</th>\n      <td>0</td>\n      <td>0.759487</td>\n      <td>0</td>\n      <td>0.041626</td>\n    </tr>\n    <tr>\n      <th>1</th>\n      <td>1</td>\n      <td>-0.248590</td>\n      <td>1</td>\n      <td>1.319188</td>\n    </tr>\n    <tr>\n      <th>2</th>\n      <td>2</td>\n      <td>-0.628436</td>\n      <td>2</td>\n      <td>0.066588</td>\n    </tr>\n    <tr>\n      <th>3</th>\n      <td>3</td>\n      <td>-0.018206</td>\n      <td>3</td>\n      <td>0.310850</td>\n    </tr>\n    <tr>\n      <th>4</th>\n      <td>4</td>\n      <td>-0.182625</td>\n      <td>4</td>\n      <td>0.560867</td>\n    </tr>\n    <tr>\n      <th>5</th>\n      <td>5</td>\n      <td>-1.041503</td>\n      <td>5</td>\n      <td>-0.071521</td>\n    </tr>\n    <tr>\n      <th>6</th>\n      <td>6</td>\n      <td>0.851446</td>\n      <td>6</td>\n      <td>-1.956118</td>\n    </tr>\n    <tr>\n      <th>7</th>\n      <td>7</td>\n      <td>0.482182</td>\n      <td>7</td>\n      <td>-0.237834</td>\n    </tr>\n    <tr>\n      <th>8</th>\n      <td>8</td>\n      <td>-0.084822</td>\n      <td>8</td>\n      <td>0.308718</td>\n    </tr>\n    <tr>\n      <th>9</th>\n      <td>9</td>\n      <td>-0.965564</td>\n      <td>9</td>\n      <td>-1.868467</td>\n    </tr>\n  </tbody>\n</table>\n</div>"
     },
     "metadata": {},
     "execution_count": 8
    }
   ],
   "source": [
    "pd.concat([df1, df2], axis=1) # 열 레벨 병합"
   ]
  },
  {
   "cell_type": "markdown",
   "metadata": {},
   "source": [
    "- column명이 다른 경우"
   ]
  },
  {
   "cell_type": "code",
   "execution_count": 9,
   "metadata": {},
   "outputs": [],
   "source": [
    "df3 = pd.DataFrame({\n",
    "    'key2' : np.arange(10),\n",
    "    'value2' : np.random.randn(10),\n",
    "})"
   ]
  },
  {
   "cell_type": "code",
   "execution_count": 10,
   "metadata": {},
   "outputs": [
    {
     "output_type": "execute_result",
     "data": {
      "text/plain": [
       "   key1  key2    value1    value2\n",
       "0   0.0   NaN  0.759487       NaN\n",
       "1   1.0   NaN -0.248590       NaN\n",
       "2   2.0   NaN -0.628436       NaN\n",
       "3   3.0   NaN -0.018206       NaN\n",
       "4   4.0   NaN -0.182625       NaN\n",
       "5   5.0   NaN -1.041503       NaN\n",
       "6   6.0   NaN  0.851446       NaN\n",
       "7   7.0   NaN  0.482182       NaN\n",
       "8   8.0   NaN -0.084822       NaN\n",
       "9   9.0   NaN -0.965564       NaN\n",
       "0   NaN   0.0       NaN -1.651821\n",
       "1   NaN   1.0       NaN -0.782675\n",
       "2   NaN   2.0       NaN -0.087188\n",
       "3   NaN   3.0       NaN  0.977077\n",
       "4   NaN   4.0       NaN -0.705476\n",
       "5   NaN   5.0       NaN -1.616873\n",
       "6   NaN   6.0       NaN -0.380353\n",
       "7   NaN   7.0       NaN -0.260536\n",
       "8   NaN   8.0       NaN -0.876381\n",
       "9   NaN   9.0       NaN  2.684519"
      ],
      "text/html": "<div>\n<style scoped>\n    .dataframe tbody tr th:only-of-type {\n        vertical-align: middle;\n    }\n\n    .dataframe tbody tr th {\n        vertical-align: top;\n    }\n\n    .dataframe thead th {\n        text-align: right;\n    }\n</style>\n<table border=\"1\" class=\"dataframe\">\n  <thead>\n    <tr style=\"text-align: right;\">\n      <th></th>\n      <th>key1</th>\n      <th>key2</th>\n      <th>value1</th>\n      <th>value2</th>\n    </tr>\n  </thead>\n  <tbody>\n    <tr>\n      <th>0</th>\n      <td>0.0</td>\n      <td>NaN</td>\n      <td>0.759487</td>\n      <td>NaN</td>\n    </tr>\n    <tr>\n      <th>1</th>\n      <td>1.0</td>\n      <td>NaN</td>\n      <td>-0.248590</td>\n      <td>NaN</td>\n    </tr>\n    <tr>\n      <th>2</th>\n      <td>2.0</td>\n      <td>NaN</td>\n      <td>-0.628436</td>\n      <td>NaN</td>\n    </tr>\n    <tr>\n      <th>3</th>\n      <td>3.0</td>\n      <td>NaN</td>\n      <td>-0.018206</td>\n      <td>NaN</td>\n    </tr>\n    <tr>\n      <th>4</th>\n      <td>4.0</td>\n      <td>NaN</td>\n      <td>-0.182625</td>\n      <td>NaN</td>\n    </tr>\n    <tr>\n      <th>5</th>\n      <td>5.0</td>\n      <td>NaN</td>\n      <td>-1.041503</td>\n      <td>NaN</td>\n    </tr>\n    <tr>\n      <th>6</th>\n      <td>6.0</td>\n      <td>NaN</td>\n      <td>0.851446</td>\n      <td>NaN</td>\n    </tr>\n    <tr>\n      <th>7</th>\n      <td>7.0</td>\n      <td>NaN</td>\n      <td>0.482182</td>\n      <td>NaN</td>\n    </tr>\n    <tr>\n      <th>8</th>\n      <td>8.0</td>\n      <td>NaN</td>\n      <td>-0.084822</td>\n      <td>NaN</td>\n    </tr>\n    <tr>\n      <th>9</th>\n      <td>9.0</td>\n      <td>NaN</td>\n      <td>-0.965564</td>\n      <td>NaN</td>\n    </tr>\n    <tr>\n      <th>0</th>\n      <td>NaN</td>\n      <td>0.0</td>\n      <td>NaN</td>\n      <td>-1.651821</td>\n    </tr>\n    <tr>\n      <th>1</th>\n      <td>NaN</td>\n      <td>1.0</td>\n      <td>NaN</td>\n      <td>-0.782675</td>\n    </tr>\n    <tr>\n      <th>2</th>\n      <td>NaN</td>\n      <td>2.0</td>\n      <td>NaN</td>\n      <td>-0.087188</td>\n    </tr>\n    <tr>\n      <th>3</th>\n      <td>NaN</td>\n      <td>3.0</td>\n      <td>NaN</td>\n      <td>0.977077</td>\n    </tr>\n    <tr>\n      <th>4</th>\n      <td>NaN</td>\n      <td>4.0</td>\n      <td>NaN</td>\n      <td>-0.705476</td>\n    </tr>\n    <tr>\n      <th>5</th>\n      <td>NaN</td>\n      <td>5.0</td>\n      <td>NaN</td>\n      <td>-1.616873</td>\n    </tr>\n    <tr>\n      <th>6</th>\n      <td>NaN</td>\n      <td>6.0</td>\n      <td>NaN</td>\n      <td>-0.380353</td>\n    </tr>\n    <tr>\n      <th>7</th>\n      <td>NaN</td>\n      <td>7.0</td>\n      <td>NaN</td>\n      <td>-0.260536</td>\n    </tr>\n    <tr>\n      <th>8</th>\n      <td>NaN</td>\n      <td>8.0</td>\n      <td>NaN</td>\n      <td>-0.876381</td>\n    </tr>\n    <tr>\n      <th>9</th>\n      <td>NaN</td>\n      <td>9.0</td>\n      <td>NaN</td>\n      <td>2.684519</td>\n    </tr>\n  </tbody>\n</table>\n</div>"
     },
     "metadata": {},
     "execution_count": 10
    }
   ],
   "source": [
    "pd.concat([df1, df3])"
   ]
  },
  {
   "cell_type": "code",
   "execution_count": 11,
   "metadata": {},
   "outputs": [
    {
     "output_type": "execute_result",
     "data": {
      "text/plain": [
       "   key1    value1  key2    value2\n",
       "0     0  0.759487     0 -1.651821\n",
       "1     1 -0.248590     1 -0.782675\n",
       "2     2 -0.628436     2 -0.087188\n",
       "3     3 -0.018206     3  0.977077\n",
       "4     4 -0.182625     4 -0.705476\n",
       "5     5 -1.041503     5 -1.616873\n",
       "6     6  0.851446     6 -0.380353\n",
       "7     7  0.482182     7 -0.260536\n",
       "8     8 -0.084822     8 -0.876381\n",
       "9     9 -0.965564     9  2.684519"
      ],
      "text/html": "<div>\n<style scoped>\n    .dataframe tbody tr th:only-of-type {\n        vertical-align: middle;\n    }\n\n    .dataframe tbody tr th {\n        vertical-align: top;\n    }\n\n    .dataframe thead th {\n        text-align: right;\n    }\n</style>\n<table border=\"1\" class=\"dataframe\">\n  <thead>\n    <tr style=\"text-align: right;\">\n      <th></th>\n      <th>key1</th>\n      <th>value1</th>\n      <th>key2</th>\n      <th>value2</th>\n    </tr>\n  </thead>\n  <tbody>\n    <tr>\n      <th>0</th>\n      <td>0</td>\n      <td>0.759487</td>\n      <td>0</td>\n      <td>-1.651821</td>\n    </tr>\n    <tr>\n      <th>1</th>\n      <td>1</td>\n      <td>-0.248590</td>\n      <td>1</td>\n      <td>-0.782675</td>\n    </tr>\n    <tr>\n      <th>2</th>\n      <td>2</td>\n      <td>-0.628436</td>\n      <td>2</td>\n      <td>-0.087188</td>\n    </tr>\n    <tr>\n      <th>3</th>\n      <td>3</td>\n      <td>-0.018206</td>\n      <td>3</td>\n      <td>0.977077</td>\n    </tr>\n    <tr>\n      <th>4</th>\n      <td>4</td>\n      <td>-0.182625</td>\n      <td>4</td>\n      <td>-0.705476</td>\n    </tr>\n    <tr>\n      <th>5</th>\n      <td>5</td>\n      <td>-1.041503</td>\n      <td>5</td>\n      <td>-1.616873</td>\n    </tr>\n    <tr>\n      <th>6</th>\n      <td>6</td>\n      <td>0.851446</td>\n      <td>6</td>\n      <td>-0.380353</td>\n    </tr>\n    <tr>\n      <th>7</th>\n      <td>7</td>\n      <td>0.482182</td>\n      <td>7</td>\n      <td>-0.260536</td>\n    </tr>\n    <tr>\n      <th>8</th>\n      <td>8</td>\n      <td>-0.084822</td>\n      <td>8</td>\n      <td>-0.876381</td>\n    </tr>\n    <tr>\n      <th>9</th>\n      <td>9</td>\n      <td>-0.965564</td>\n      <td>9</td>\n      <td>2.684519</td>\n    </tr>\n  </tbody>\n</table>\n</div>"
     },
     "metadata": {},
     "execution_count": 11
    }
   ],
   "source": [
    "pd.concat([df1, df3], axis=1)"
   ]
  }
 ],
 "metadata": {
  "kernelspec": {
   "display_name": "Python 3",
   "language": "python",
   "name": "python3"
  },
  "language_info": {
   "codemirror_mode": {
    "name": "ipython",
    "version": 3
   },
   "file_extension": ".py",
   "mimetype": "text/x-python",
   "name": "python",
   "nbconvert_exporter": "python",
   "pygments_lexer": "ipython3",
   "version": "3.7.4-final"
  }
 },
 "nbformat": 4,
 "nbformat_minor": 2
}